{
 "cells": [
  {
   "cell_type": "markdown",
   "metadata": {},
   "source": [
    "# Simple example of determining the largest eigenvalue\n",
    "\n",
    "This notebook is classical version of the variational quantum aalgorithm <https://en.wikipedia.org/wiki/Variational_quantum_eigensolver> This is the most common algorithm used on quantum computers to compute eigenvalues in quantum chemistry.\n",
    "\n",
    "* See this blog post for an overview of the method: https://joshuagoings.com/2020/08/20/VQE/\n",
    "* See also this original paper: O’Malley, Peter JJ, et al. “Scalable quantum simulation of molecular energies.” Physical Review X 6.3 (2016): 031007.  https://journals.aps.org/prx/abstract/10.1103/PhysRevX.6.031007\n",
    "\n",
    "This notebook doesn't use any qbits, but runs the algorithm for a 2 by 2 matrix.\n",
    "\n",
    "\n"
   ]
  },
  {
   "cell_type": "code",
   "execution_count": null,
   "metadata": {},
   "outputs": [],
   "source": [
    "import numpy as np\n",
    "import math\n",
    "import cmath\n",
    "from scipy.optimize import minimize"
   ]
  },
  {
   "cell_type": "code",
   "execution_count": null,
   "metadata": {},
   "outputs": [],
   "source": [
    "from numpy import linalg as LA\n",
    "\n",
    "outfile = \"Hstore\""
   ]
  },
  {
   "cell_type": "markdown",
   "metadata": {},
   "source": [
    "#  Functions to apply Pauli spin matrices to vectors"
   ]
  },
  {
   "cell_type": "code",
   "execution_count": null,
   "metadata": {},
   "outputs": [],
   "source": [
    "\n",
    "def apply_sigma_X(a, cc):\n",
    "    \"\"\"\n",
    "     Pauli X matrix to vector\n",
    "    \"\"\"\n",
    "    a[0,1] += cc    \n",
    "    a[1,0] += cc    \n",
    "\n",
    "# Pauli Y matrix\n",
    "def apply_sigma_Y(a, cc):\n",
    "   a[0,1] = a[0,1] + complex(0,-cc)\n",
    "   a[1,0] = a[1,0] + complex(0,cc)\n",
    "\n",
    "# Pauli Z matrix\n",
    "def apply_sigma_Z(a, cc):\n",
    "   a[0,0] = a[0,0] + cc\n",
    "   a[1,1] = a[1,1] - cc\n",
    "\n",
    "# Pauli unit matrix\n",
    "def apply_sigma_unit(a, cc):\n",
    "   a[0,0] = a[0,0] + cc\n",
    "   a[1,1] = a[1,1] + cc"
   ]
  },
  {
   "cell_type": "markdown",
   "metadata": {},
   "source": [
    "# Create a test matrix \n",
    "\n",
    "Create a Hermitian matrix parameterized by Pauli spin matricies.\n",
    "\n",
    "$ H = \\sum_{i=1}^3 \\sigma_i c_i  $$ +  c_{unit} 1 $"
   ]
  },
  {
   "cell_type": "code",
   "execution_count": null,
   "metadata": {},
   "outputs": [],
   "source": [
    "\n",
    "Hclass = np.zeros((2,2), dtype=complex)\n",
    "\n",
    "# coefficients of Pauli spin operators\n",
    "c_x = 0.2 \n",
    "c_y = 0.4\n",
    "c_z = 0.6 \n",
    "c_unit = 5.8\n",
    "\n",
    "apply_sigma_X(Hclass, c_x)\n",
    "apply_sigma_Y(Hclass, c_y)\n",
    "apply_sigma_Z(Hclass, c_z)\n",
    "apply_sigma_unit(Hclass, c_unit)\n",
    "\n",
    "print(\"Hamiltonian = \\n\" , Hclass)"
   ]
  },
  {
   "cell_type": "markdown",
   "metadata": {},
   "source": [
    "## Use standard numerical analysis to compute the eigenvalues "
   ]
  },
  {
   "cell_type": "code",
   "execution_count": null,
   "metadata": {},
   "outputs": [],
   "source": [
    "w, v = LA.eig(Hclass)\n",
    "\n",
    "print(\"Classical eigenvalues:\")\n",
    "for xx in w:\n",
    "    # just print real part\n",
    "    print(xx.real)"
   ]
  },
  {
   "cell_type": "markdown",
   "metadata": {},
   "source": [
    "## Variational calculation of eigenvalue\n",
    "Use the VQE method classically\n",
    "\n",
    "* A dimension 2 vector is created  depending on two parameters $\\theta$ , $\\phi$\n",
    "* See  https://qiskit.org/textbook/ch-applications/vqe-molecules.html#varforms"
   ]
  },
  {
   "cell_type": "code",
   "execution_count": null,
   "metadata": {},
   "outputs": [],
   "source": [
    "#  Check the parameterization.\n",
    "# https://qiskit.org/textbook/ch-applications/vqe-molecules.html#varforms\n",
    "#\n",
    "#  U3 *  (1 0)^t\n",
    "#\n",
    "def create_1vec(theta, phi, lamb) :\n",
    "\n",
    "   vec = np.zeros((2,1), dtype=complex)\n",
    "\n",
    "   vec[0] = math.cos(theta/2.0) \n",
    "   vec[1] = math.sin(theta/2.0) *  cmath.exp( phi*1j)\n",
    "\n",
    "   return vec\n"
   ]
  },
  {
   "cell_type": "code",
   "execution_count": null,
   "metadata": {},
   "outputs": [],
   "source": [
    "print(\"Test parameterization\")\n",
    "\n",
    "ans = create_1vec(1.0, 1.0, 1.0) \n",
    "\n",
    "print(ans)\n",
    "\n",
    "nn = np.vdot(ans,ans)\n",
    "\n",
    "print(\"norm = \" , nn)\n"
   ]
  },
  {
   "cell_type": "markdown",
   "metadata": {},
   "source": [
    "\n",
    " Eigenvalue estimate \n",
    " $ \\lambda =  \\frac{ \\langle v(\\theta,\\phi),H v(\\theta,\\phi) \\rangle}  {\\langle v(\\theta,\\phi),v(\\theta,\\phi) \\rangle}  $\n",
    " \n",
    " where $v(\\theta, \\phi)$ is a parameterized vector.  \n",
    " \n",
    "Minimum $\\lambda$ is found by minimizing with respect to $\\theta$ \n",
    "and $\\phi$."
   ]
  },
  {
   "cell_type": "code",
   "execution_count": null,
   "metadata": {},
   "outputs": [],
   "source": [
    "#\n",
    "#  Eigenvalue estimate  (v,H * v) / (v,v)\n",
    "#  where v is a parameterized vector\n",
    "#\n",
    "\n",
    "def  compute_lambda(x) :\n",
    "    theta = x[0]\n",
    "    phi = x[1]\n",
    "\n",
    "    lamb = 0 \n",
    "    vv = create_1vec(theta, phi, lamb) \n",
    "\n",
    "    Mvv = np.matmul(Hclass, vv)\n",
    "\n",
    "    ans = np.vdot(vv,Mvv) / np.vdot(vv,vv)\n",
    "\n",
    "    return np.real(ans)\n",
    "\n",
    "\n",
    "x0 = np.array([1.3, 0.7])\n",
    "print(\"First guess of eigenvalue = \" , x0)\n",
    "\n",
    "res = minimize(compute_lambda, x0, method='nelder-mead',\n",
    "               options={'xatol': 1e-8, 'disp': True})\n",
    "\n",
    "print(\"Minimum vector = \" , res.x)\n",
    "\n",
    "vv =  compute_lambda( res.x )\n",
    "\n",
    "print(\"vv = \" , vv )"
   ]
  },
  {
   "cell_type": "code",
   "execution_count": null,
   "metadata": {},
   "outputs": [],
   "source": []
  },
  {
   "cell_type": "code",
   "execution_count": null,
   "metadata": {},
   "outputs": [],
   "source": []
  }
 ],
 "metadata": {
  "kernelspec": {
   "display_name": "Python 3",
   "language": "python",
   "name": "python3"
  },
  "language_info": {
   "codemirror_mode": {
    "name": "ipython",
    "version": 3
   },
   "file_extension": ".py",
   "mimetype": "text/x-python",
   "name": "python",
   "nbconvert_exporter": "python",
   "pygments_lexer": "ipython3",
   "version": "3.6.7"
  }
 },
 "nbformat": 4,
 "nbformat_minor": 2
}
